{
  "nbformat": 4,
  "nbformat_minor": 0,
  "metadata": {
    "colab": {
      "provenance": [],
      "authorship_tag": "ABX9TyNbLFLOOSmiuio/kYJc1xwk",
      "include_colab_link": true
    },
    "kernelspec": {
      "name": "python3",
      "display_name": "Python 3"
    },
    "language_info": {
      "name": "python"
    }
  },
  "cells": [
    {
      "cell_type": "markdown",
      "metadata": {
        "id": "view-in-github",
        "colab_type": "text"
      },
      "source": [
        "<a href=\"https://colab.research.google.com/github/jiashenyue/salary-insights/blob/main/Data_Science_Salary_Insights_Part1.ipynb\" target=\"_parent\"><img src=\"https://colab.research.google.com/assets/colab-badge.svg\" alt=\"Open In Colab\"/></a>"
      ]
    },
    {
      "cell_type": "markdown",
      "source": [
        "# **Data Science Salary Insights**\n",
        "Shenyue Jia | [jiashenyue.info](https://jiashenyue.info)"
      ],
      "metadata": {
        "id": "qFZluWrr_oon"
      }
    },
    {
      "cell_type": "markdown",
      "source": [
        "## **Loading Data**"
      ],
      "metadata": {
        "id": "JvQX96yp_qs0"
      }
    },
    {
      "cell_type": "code",
      "source": [
        "# Python start here"
      ],
      "metadata": {
        "id": "_Sgcc7mj_uhp"
      },
      "execution_count": null,
      "outputs": []
    },
    {
      "cell_type": "markdown",
      "source": [
        "## **Data Cleaning**"
      ],
      "metadata": {
        "id": "vE-Tv6n6_yjm"
      }
    },
    {
      "cell_type": "code",
      "source": [],
      "metadata": {
        "id": "soR6jJs9_0w2"
      },
      "execution_count": null,
      "outputs": []
    },
    {
      "cell_type": "markdown",
      "source": [
        "## **Exploratory Visuals**"
      ],
      "metadata": {
        "id": "BSJ8Xa-3_1ZS"
      }
    },
    {
      "cell_type": "code",
      "source": [],
      "metadata": {
        "id": "To93cGIIAHNO"
      },
      "execution_count": null,
      "outputs": []
    },
    {
      "cell_type": "markdown",
      "source": [
        "##**Explanatory Visuals**"
      ],
      "metadata": {
        "id": "Arj03FHMAHnD"
      }
    },
    {
      "cell_type": "code",
      "source": [],
      "metadata": {
        "id": "3iCgqGIAAMHI"
      },
      "execution_count": null,
      "outputs": []
    }
  ]
}